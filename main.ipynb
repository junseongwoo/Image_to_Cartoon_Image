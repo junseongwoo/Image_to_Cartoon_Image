{
 "metadata": {
  "language_info": {
   "codemirror_mode": {
    "name": "ipython",
    "version": 3
   },
   "file_extension": ".py",
   "mimetype": "text/x-python",
   "name": "python",
   "nbconvert_exporter": "python",
   "pygments_lexer": "ipython3",
   "version": "3.9.1"
  },
  "orig_nbformat": 4,
  "kernelspec": {
   "name": "python3",
   "display_name": "Python 3.9.1 64-bit ('venv': venv)"
  },
  "interpreter": {
   "hash": "9b45c84411a5f227964f6cfa9ec527bdf36cf234fd10ecde9c5e936aa09e0b3f"
  }
 },
 "nbformat": 4,
 "nbformat_minor": 2,
 "cells": [
  {
   "cell_type": "code",
   "execution_count": 1,
   "metadata": {},
   "outputs": [],
   "source": [
    "import numpy as np \n",
    "import cv2\n",
    "import matplotlib.pyplot as plt\n",
    "import matplotlib.image as matim\n",
    "import ipywidgets as widgets"
   ]
  },
  {
   "cell_type": "code",
   "execution_count": 6,
   "metadata": {},
   "outputs": [],
   "source": [
    "img = matim.imread('./images/dolphin.jpg')"
   ]
  },
  {
   "cell_type": "code",
   "execution_count": 8,
   "metadata": {},
   "outputs": [
    {
     "output_type": "display_data",
     "data": {
      "text/plain": "interactive(children=(Dropdown(description='style', index=1, options=('detail', 'pencil', 'cartoon'), value='p…",
      "application/vnd.jupyter.widget-view+json": {
       "version_major": 2,
       "version_minor": 0,
       "model_id": "624a19c24e9b44158863061d755099d0"
      }
     },
     "metadata": {}
    }
   ],
   "source": [
    "@widgets.interact_manual(style = [\"detail\", \"pencil\", \"cartoon\"])\n",
    "def app(style=\"pencil\"):\n",
    "    if style == \"detail\":\n",
    "        @widgets.interact_manual(s = (0, 200, 1), r = (0, 1, 0.1))\n",
    "        def dtail(s = 100, r = 0.5):\n",
    "            detailImg = cv2.detailEnhance(img, sigma_s = s, sigma_r = r)\n",
    "            plt.figure(figsize = (15, 8)) \n",
    "            plt.subplot(1,2,1)\n",
    "            plt.imshow(img)\n",
    "            plt.yticks([]), plt.xticks([]) # 눈금을 null 값으로 넣겠다. \n",
    "            plt.title(\"Original Image\")\n",
    "            plt.subplot(1,2,2)\n",
    "            plt.imshow(detailImg)\n",
    "            plt.title(\"Dtail Image\")\n",
    "            plt.yticks([]), plt.xticks([])\n",
    "            plt.show()\n",
    "    elif style == \"pencil\":\n",
    "        def adjust_gamma(image, gamma = 1):\n",
    "            invGamma = 1.0 / gamma \n",
    "            table = np.array([\n",
    "                ((i/255)**invGamma) * 255 for i in np.arange(0, 256)\n",
    "            ])\n",
    "            lut_img = cv2.LUT(image.astype(np.uint8), table.astype(np.uint8))\n",
    "            return lut_img\n",
    "        @widgets.interact_manual(ksize=(3, 25, 2), sigmaX = (1, 15, 2), gamma = (0, 1, 0.01))\n",
    "        def pencil_art_image(ksize = 21, sigmaX = 9, gamma = 0.1):\n",
    "            gray = cv2.cvtColor(img, cv2.COLOR_BGR2GRAY)\n",
    "            gray_blur = cv2.GaussianBlur(gray, (ksize, ksize), sigmaX) \n",
    "            gray_blur_divide = cv2.divide(gray, gray_blur, scale = 256)\n",
    "            pencil_sketch = adjust_gamma(gray_blur_divide, gamma = gamma) \n",
    "\n",
    "            plt.figure(figsize = (15, 8))\n",
    "            plt.subplot(1, 2, 1)\n",
    "            plt.yticks([]), plt.xticks([])\n",
    "            plt.title(\"Original Image\")\n",
    "            plt.imshow(img)\n",
    "            plt.subplot(1, 2, 2)\n",
    "            plt.yticks([]), plt.xticks([])\n",
    "            plt.title(\"Pencil Image\")\n",
    "            plt.imshow(pencil_sketch, cmap = \"gray\")\n",
    "            plt.show()\n",
    "    elif style == \"cartoon\":\n",
    "        def edge_mask(img, ksize, block_size):\n",
    "            gray = cv2.cvtColor(img, cv2.COLOR_BGR2GRAY)\n",
    "            gray_median = cv2.medianBlur(gray, ksize)\n",
    "            edges = cv2.adaptiveThreshold(gray_median, 255, \n",
    "                cv2.ADAPTIVE_THRESH_MEAN_C, cv2.THRESH_BINARY, block_size, ksize)\n",
    "            return edges \n",
    "\n",
    "        def kmeans_cluster(img, k):\n",
    "            data = np.float32(img).reshape((-1, 3))\n",
    "\n",
    "            criteria = (cv2.TERM_CRITERIA_EPS + cv2.TERM_CRITERIA_MAX_ITER, 20, 0.001)\n",
    "\n",
    "            ret, label, center = cv2.kmeans(data, k, None, criteria, \n",
    "                5, cv2.KMEANS_RANDOM_CENTERS)\n",
    "            center = np.uint8(center)\n",
    "            result = center[label.flatten()]\n",
    "            result = result.reshape(img.shape)\n",
    "            return result\n",
    "        @widgets.interact_manual(ksize = (3, 25, 2), \n",
    "        block_size = (1, 21, 2), k = (1, 20, 1), d = (5, 15, 2), \n",
    "        sigmacolor = (1, 300),sigmaspace = (1, 300))\n",
    "\n",
    "        def cartoon_image(ksize = 5, \n",
    "        block_size = 7, k = 7, d = 7, sigmacolor = 200, sigmaspace = 200):\n",
    "            edge_Mask = edge_mask(img, ksize, block_size)\n",
    "            cluster_img = kmeans_cluster(img, k)\n",
    "            bilateral = cv2.bilateralFilter(cluster_img, d=d, \n",
    "            sigmaColor=sigmacolor, sigmaSpace=sigmaspace)\n",
    "            cartoon = cv2.bitwise_and(bilateral, bilateral, mask = edge_Mask)\n",
    "\n",
    "            plt.figure(figsize = (15, 8))\n",
    "            plt.subplot(1, 2, 1)\n",
    "            plt.yticks([]), plt.xticks([])\n",
    "            plt.title(\"Original Image\")\n",
    "            plt.imshow(img)\n",
    "            plt.subplot(1, 2, 2)\n",
    "            plt.yticks([]), plt.xticks([])\n",
    "            plt.title(\"Cartoon Image\")\n",
    "            plt.imshow(cartoon)\n",
    "            plt.show()"
   ]
  },
  {
   "cell_type": "code",
   "execution_count": null,
   "metadata": {},
   "outputs": [],
   "source": []
  }
 ]
}